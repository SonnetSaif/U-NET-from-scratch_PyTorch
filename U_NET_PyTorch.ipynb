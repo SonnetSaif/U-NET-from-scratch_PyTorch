{
  "nbformat": 4,
  "nbformat_minor": 0,
  "metadata": {
    "colab": {
      "provenance": [],
      "authorship_tag": "ABX9TyPbD9O/hX3oTOadC2Dh4mkX",
      "include_colab_link": true
    },
    "kernelspec": {
      "name": "python3",
      "display_name": "Python 3"
    },
    "language_info": {
      "name": "python"
    }
  },
  "cells": [
    {
      "cell_type": "markdown",
      "metadata": {
        "id": "view-in-github",
        "colab_type": "text"
      },
      "source": [
        "<a href=\"https://colab.research.google.com/github/SonnetSaif/U-NET-from-scratch_PyTorch/blob/main/U_NET_PyTorch.ipynb\" target=\"_parent\"><img src=\"https://colab.research.google.com/assets/colab-badge.svg\" alt=\"Open In Colab\"/></a>"
      ]
    },
    {
      "cell_type": "code",
      "execution_count": 11,
      "metadata": {
        "id": "rUd74qnLiCx2"
      },
      "outputs": [],
      "source": [
        "import torch\n",
        "import torch.nn as nn\n",
        "from torchvision import transforms"
      ]
    },
    {
      "cell_type": "code",
      "source": [
        "class DoubleConv(nn.Module):\n",
        "  def __init__(self, in_c, out_c):\n",
        "    super().__init__()\n",
        "    self.conv = nn.Sequential(\n",
        "      nn.Conv2d(in_c, out_c, kernel_size=3),\n",
        "      nn.ReLU(inplace=True),\n",
        "      nn.Conv2d(out_c, out_c, kernel_size=3),\n",
        "      nn.ReLU(inplace=True),\n",
        "    )\n",
        "\n",
        "  def forward(self, x):\n",
        "    out = self.conv(x)\n",
        "    return out"
      ],
      "metadata": {
        "id": "0zpm35kabZm3"
      },
      "execution_count": 12,
      "outputs": []
    },
    {
      "cell_type": "code",
      "source": [
        "class UNet(nn.Module):\n",
        "  def __init__(self):\n",
        "    super().__init__()\n",
        "\n",
        "    self.down_conv1 = DoubleConv(1, 64)\n",
        "    self.down_conv2 = DoubleConv(64, 128)\n",
        "    self.down_conv3 = DoubleConv(128, 256)\n",
        "    self.down_conv4 = DoubleConv(256, 512)\n",
        "    self.down_conv5 = DoubleConv(512, 1024)\n",
        "    self.max_pool = nn.MaxPool2d(kernel_size=2, stride=2)\n",
        "\n",
        "    self.up_transpose1 = nn.ConvTranspose2d(in_channels=1024, out_channels=512, kernel_size=2, stride=2)\n",
        "    self.up_conv1 = DoubleConv(1024, 512)\n",
        "    self.up_transpose2 = nn.ConvTranspose2d(in_channels=512, out_channels=256, kernel_size=2, stride=2)\n",
        "    self.up_conv2 = DoubleConv(512, 256)\n",
        "    self.up_transpose3 = nn.ConvTranspose2d(in_channels=256, out_channels=128, kernel_size=2, stride=2)\n",
        "    self.up_conv3 = DoubleConv(256, 128)\n",
        "    self.up_transpose4 = nn.ConvTranspose2d(in_channels=128, out_channels=64, kernel_size=2, stride=2)\n",
        "    self.up_conv4 = DoubleConv(128, 64)\n",
        "\n",
        "    self.out = nn.Conv2d(in_channels=64, out_channels=2, kernel_size=2)\n",
        "\n",
        "  def forward(self, image):\n",
        "    #encoder\n",
        "    x1 = self.down_conv1(image)\n",
        "    print(x1.size())\n",
        "    x2 = self.max_pool(x1)\n",
        "    # print(x2.size())\n",
        "    x3 = self.down_conv2(x2)\n",
        "    # print(x3.size())\n",
        "    x4 = self.max_pool(x3)\n",
        "    # print(x4.size())\n",
        "    x5 = self.down_conv3(x4)\n",
        "    # print(x5.size())\n",
        "    x6 = self.max_pool(x5)\n",
        "    # print(x6.size())\n",
        "    x7 = self.down_conv4(x6)\n",
        "    # print(x7.size())\n",
        "    x8 = self.max_pool(x7)\n",
        "    # print(x8.size())\n",
        "    x9 = self.down_conv5(x8)\n",
        "    print(x9.size())\n",
        "\n",
        "    #decoder\n",
        "    x10 = self.up_transpose1(x9)\n",
        "    transform = transforms.CenterCrop(x10.size()[2])\n",
        "    x7_trans = transform(x7)\n",
        "    x11 = self.up_conv1(torch.cat([x10, x7_trans], 1))\n",
        "\n",
        "    x12 = self.up_transpose2(x11)\n",
        "    transform = transforms.CenterCrop(x12.size()[2])\n",
        "    x5_trans = transform(x5)\n",
        "    x13 = self.up_conv2(torch.cat([x12, x5_trans], 1))\n",
        "\n",
        "    x14 = self.up_transpose3(x13)\n",
        "    transform = transforms.CenterCrop(x14.size()[2])\n",
        "    x3_trans = transform(x3)\n",
        "    x15 = self.up_conv3(torch.cat([x14, x3_trans], 1))\n",
        "\n",
        "    x16 = self.up_transpose4(x15)\n",
        "    transform = transforms.CenterCrop(x16.size()[2])\n",
        "    x1_trans = transform(x1)\n",
        "    x17 = self.up_conv4(torch.cat([x16, x1_trans], 1))\n",
        "\n",
        "    out = self.out(x17)\n",
        "    print(out.size())\n",
        "    return out"
      ],
      "metadata": {
        "id": "widgpPxcSr1f"
      },
      "execution_count": 25,
      "outputs": []
    },
    {
      "cell_type": "code",
      "source": [
        "if __name__==\"__main__\":\n",
        "  image = torch.rand(1, 1, 572, 572)\n",
        "  model = UNet()\n",
        "  model(image)"
      ],
      "metadata": {
        "colab": {
          "base_uri": "https://localhost:8080/"
        },
        "id": "PT1KuYiRWrXa",
        "outputId": "562505b0-1601-45b7-ccad-25eba420c410"
      },
      "execution_count": 28,
      "outputs": [
        {
          "output_type": "stream",
          "name": "stdout",
          "text": [
            "torch.Size([1, 64, 568, 568])\n",
            "torch.Size([1, 1024, 28, 28])\n",
            "torch.Size([1, 2, 387, 387])\n"
          ]
        }
      ]
    },
    {
      "cell_type": "code",
      "source": [],
      "metadata": {
        "id": "mB4IMVbAXm90"
      },
      "execution_count": null,
      "outputs": []
    }
  ]
}