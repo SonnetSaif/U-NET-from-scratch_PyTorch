{
  "nbformat": 4,
  "nbformat_minor": 0,
  "metadata": {
    "colab": {
      "provenance": [],
      "authorship_tag": "ABX9TyM7oacViU6KzOgmt59AlHMR",
      "include_colab_link": true
    },
    "kernelspec": {
      "name": "python3",
      "display_name": "Python 3"
    },
    "language_info": {
      "name": "python"
    }
  },
  "cells": [
    {
      "cell_type": "markdown",
      "metadata": {
        "id": "view-in-github",
        "colab_type": "text"
      },
      "source": [
        "<a href=\"https://colab.research.google.com/github/SonnetSaif/U-NET-from-scratch_PyTorch_kaggle/blob/main/U_NET_PyTorch.ipynb\" target=\"_parent\"><img src=\"https://colab.research.google.com/assets/colab-badge.svg\" alt=\"Open In Colab\"/></a>"
      ]
    },
    {
      "cell_type": "code",
      "execution_count": 1,
      "metadata": {
        "id": "rUd74qnLiCx2"
      },
      "outputs": [],
      "source": [
        "import torch\n",
        "import torch.nn as nn"
      ]
    },
    {
      "cell_type": "code",
      "source": [
        "def double_conv(in_c, out_c):\n",
        "  conv = nn.Sequential(\n",
        "      nn.Conv2d(in_c, out_c, kernel_size=3),\n",
        "      nn.ReLU(inplace=True),\n",
        "      nn.Conv2d(out_c, out_c, kernel_size=3),\n",
        "      nn.ReLU(inplace=True),\n",
        "  )\n",
        "  return conv"
      ],
      "metadata": {
        "id": "iy3H6sLjSGjb"
      },
      "execution_count": 10,
      "outputs": []
    },
    {
      "cell_type": "code",
      "source": [
        "class UNet(nn.Module):\n",
        "  def __init__(self):\n",
        "    super().__init__()\n",
        "    self.down_conv1 = double_conv(1, 64)\n",
        "    self.down_conv2 = double_conv(64, 128)\n",
        "    self.down_conv3 = double_conv(128, 256)\n",
        "    self.down_conv4 = double_conv(256, 512)\n",
        "    self.down_conv5 = double_conv(512, 1024)\n",
        "    self.max_pool = nn.MaxPool2d(kernel_size=2, stride=2)\n",
        "\n",
        "  def forward(self, image):\n",
        "    x1 = self.down_conv1(image)\n",
        "    print(x1.size())\n",
        "    x2 = self.max_pool(x1)\n",
        "    print(x2.size())\n",
        "    x3 = self.down_conv2(x2)\n",
        "    print(x3.size())\n",
        "    x4 = self.max_pool(x3)\n",
        "    print(x4.size())\n",
        "    x5 = self.down_conv3(x4)\n",
        "    print(x5.size())\n",
        "    x6 = self.max_pool(x5)\n",
        "    print(x6.size())\n",
        "    x7 = self.down_conv4(x6)\n",
        "    print(x7.size())\n",
        "    x8 = self.max_pool(x7)\n",
        "    print(x8.size())\n",
        "    x9 = self.down_conv5(x8)\n",
        "    print(x9.size())"
      ],
      "metadata": {
        "id": "widgpPxcSr1f"
      },
      "execution_count": 20,
      "outputs": []
    },
    {
      "cell_type": "code",
      "source": [
        "if __name__==\"__main__\":\n",
        "  image = torch.rand((1, 1, 572, 572))\n",
        "  model = UNet()\n",
        "  print(model(image))"
      ],
      "metadata": {
        "colab": {
          "base_uri": "https://localhost:8080/"
        },
        "id": "PT1KuYiRWrXa",
        "outputId": "9716b1b7-5d96-4c92-d8d6-db1cf2f552bd"
      },
      "execution_count": 22,
      "outputs": [
        {
          "output_type": "stream",
          "name": "stdout",
          "text": [
            "torch.Size([1, 64, 568, 568])\n",
            "torch.Size([1, 64, 284, 284])\n",
            "torch.Size([1, 128, 280, 280])\n",
            "torch.Size([1, 128, 140, 140])\n",
            "torch.Size([1, 256, 136, 136])\n",
            "torch.Size([1, 256, 68, 68])\n",
            "torch.Size([1, 512, 64, 64])\n",
            "torch.Size([1, 512, 32, 32])\n",
            "torch.Size([1, 1024, 28, 28])\n",
            "None\n"
          ]
        }
      ]
    },
    {
      "cell_type": "code",
      "source": [],
      "metadata": {
        "id": "mB4IMVbAXm90"
      },
      "execution_count": null,
      "outputs": []
    }
  ]
}